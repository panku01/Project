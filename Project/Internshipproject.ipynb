{
  "nbformat": 4,
  "nbformat_minor": 0,
  "metadata": {
    "colab": {
      "provenance": []
    },
    "kernelspec": {
      "name": "python3",
      "display_name": "Python 3"
    },
    "language_info": {
      "name": "python"
    }
  },
  "cells": [
    {
      "cell_type": "markdown",
      "source": [
        "\n",
        "# Hand Written Digit Prediction- Classification Analysis"
      ],
      "metadata": {
        "id": "x3my7nv5p-cC"
      }
    },
    {
      "cell_type": "markdown",
      "source": [
        "# Objective"
      ],
      "metadata": {
        "id": "FkW3IQbUqGvH"
      }
    },
    {
      "cell_type": "markdown",
      "source": [
        "The primary objective of a Handwritten Digit Prediction project is to develop a machine learning model that can accurately recognize and predict handwritten digits from 0 to 9¹. This involves using datasets like the MNIST or scikit-learn’s built-in “digits” dataset, which contain images of handwritten digits, each represented by a pixel matrix. The project typically includes steps such as data preprocessing, model training, evaluation, and prediction. It’s a fundamental project in the field of computer vision and machine learning, often serving as a stepping stone for more complex image recognition tasks."
      ],
      "metadata": {
        "id": "GX4fUD0YqMBJ"
      }
    },
    {
      "cell_type": "markdown",
      "source": [
        "# Data Source"
      ],
      "metadata": {
        "id": "57WnOISfqRbq"
      }
    },
    {
      "cell_type": "markdown",
      "source": [
        "MNIST Dataset:\n",
        "\n",
        "    1. The MNIST dataset was developed by Yann LeCun, Corinna Cortes, and\n",
        "       Christopher Burges.\n",
        "    2. It serves as a benchmark for evaluating machine learning models on the\n",
        "       handwritten digit classification problem.\n",
        "    3. The dataset consists of 28x28-pixel images of handwritten digits (0 to\n",
        "       9).\n",
        "    4. Each image is normalized in size and centered, making it ideal for model\n",
        "       evaluation.\n",
        "    5. The standard split of the dataset includes 60,000 training images and  \n",
        "       10, 000 test images.\n",
        "    6. The goal is to predict the correct digit class for each image.\n",
        "    7. State-of-the-art models achieve a prediction error of approximately 0.2%\n",
        "       using large convolutional neural networks (CNNs) 1.\n",
        "\n",
        "CNNs (Convolutional Neural Networks):\n",
        "\n",
        "    1. CNNs are a type of deep learning architecture commonly used for image\n",
        "       recognition tasks.\n",
        "    2. They excel at capturing spatial patterns and hierarchies in image data.\n",
        "    3. In the context of handwritten digit prediction, CNNs learn to recognize\n",
        "       features like edges, corners, and shapes within the digit images.\n",
        "    4. Researchers and practitioners often use CNNs to achieve high accuracy on\n",
        "       the MNIST dataset 1"
      ],
      "metadata": {
        "id": "Hmmd4OcqqZRC"
      }
    },
    {
      "cell_type": "markdown",
      "source": [
        "# Import Library"
      ],
      "metadata": {
        "id": "ikyWp69FrAb8"
      }
    },
    {
      "cell_type": "code",
      "execution_count": 6,
      "metadata": {
        "id": "JMO3fDAXpA6b"
      },
      "outputs": [],
      "source": [
        "import pandas as pd\n",
        "import numpy as np\n",
        "import matplotlib.pyplot as plt"
      ]
    },
    {
      "cell_type": "code",
      "source": [
        "from sklearn.datasets import load_digits\n"
      ],
      "metadata": {
        "id": "oqP2epPLpTks"
      },
      "execution_count": 7,
      "outputs": []
    },
    {
      "cell_type": "code",
      "source": [
        "df = load_digits()"
      ],
      "metadata": {
        "id": "9AcIHBJRpcij"
      },
      "execution_count": 8,
      "outputs": []
    },
    {
      "cell_type": "code",
      "source": [
        "_, axes = plt.subplots(nrows=1, ncols=4, figsize=(10,3))\n",
        "for ax, image, label in zip(axes, df.images, df.target):\n",
        "  ax.set_axis_off()\n",
        "  ax.imshow(image, cmap=plt.cm.gray_r, interpolation=\"nearest\")\n",
        "  ax.set_title(\"Training: %i\" %label)"
      ],
      "metadata": {
        "colab": {
          "base_uri": "https://localhost:8080/",
          "height": 227
        },
        "id": "7tboqEhnpiNg",
        "outputId": "9be5aca7-786f-45b0-e611-0c71e0e017af"
      },
      "execution_count": 9,
      "outputs": [
        {
          "output_type": "display_data",
          "data": {
            "text/plain": [
              "<Figure size 1000x300 with 4 Axes>"
            ],
            "image/png": "[encoded data removed]"
          },
          "metadata": {}
        }
      ]
    },
    {
      "cell_type": "markdown",
      "source": [
        "# Data Preprocessing"
      ],
      "metadata": {
        "id": "0xiN-87MrWwr"
      }
    },
    {
      "cell_type": "markdown",
      "source": [
        "Flatten image"
      ],
      "metadata": {
        "id": "B0DqocB5rdhB"
      }
    },
    {
      "cell_type": "code",
      "source": [
        "df.images.shape"
      ],
      "metadata": {
        "colab": {
          "base_uri": "https://localhost:8080/"
        },
        "id": "XJAq7gjLpk9u",
        "outputId": "b757d548-66bd-4de6-b7ef-abb200493e24"
      },
      "execution_count": 10,
      "outputs": [
        {
          "output_type": "execute_result",
          "data": {
            "text/plain": [
              "(1797, 8, 8)"
            ]
          },
          "metadata": {},
          "execution_count": 10
        }
      ]
    },
    {
      "cell_type": "code",
      "source": [
        "df.images[0]"
      ],
      "metadata": {
        "colab": {
          "base_uri": "https://localhost:8080/"
        },
        "id": "UUt82l4arlMw",
        "outputId": "2b96edfa-f816-4fd4-e64c-4b2255ac10e6"
      },
      "execution_count": 11,
      "outputs": [
        {
          "output_type": "execute_result",
          "data": {
            "text/plain": [
              "array([[ 0.,  0.,  5., 13.,  9.,  1.,  0.,  0.],\n",
              "       [ 0.,  0., 13., 15., 10., 15.,  5.,  0.],\n",
              "       [ 0.,  3., 15.,  2.,  0., 11.,  8.,  0.],\n",
              "       [ 0.,  4., 12.,  0.,  0.,  8.,  8.,  0.],\n",
              "       [ 0.,  5.,  8.,  0.,  0.,  9.,  8.,  0.],\n",
              "       [ 0.,  4., 11.,  0.,  1., 12.,  7.,  0.],\n",
              "       [ 0.,  2., 14.,  5., 10., 12.,  0.,  0.],\n",
              "       [ 0.,  0.,  6., 13., 10.,  0.,  0.,  0.]])"
            ]
          },
          "metadata": {},
          "execution_count": 11
        }
      ]
    },
    {
      "cell_type": "code",
      "source": [
        "df.images[0].shape"
      ],
      "metadata": {
        "colab": {
          "base_uri": "https://localhost:8080/"
        },
        "id": "nL7-Wzz1rzRf",
        "outputId": "5586db54-061d-4c21-ed39-1f7c12a8ad2a"
      },
      "execution_count": 12,
      "outputs": [
        {
          "output_type": "execute_result",
          "data": {
            "text/plain": [
              "(8, 8)"
            ]
          },
          "metadata": {},
          "execution_count": 12
        }
      ]
    },
    {
      "cell_type": "code",
      "source": [
        "len(df.images)"
      ],
      "metadata": {
        "colab": {
          "base_uri": "https://localhost:8080/"
        },
        "id": "m9LGb75xr46F",
        "outputId": "9e0aa825-c0be-4da5-86c9-54e104a8df88"
      },
      "execution_count": 13,
      "outputs": [
        {
          "output_type": "execute_result",
          "data": {
            "text/plain": [
              "1797"
            ]
          },
          "metadata": {},
          "execution_count": 13
        }
      ]
    },
    {
      "cell_type": "code",
      "source": [
        "n_samples = len(df.images)\n",
        "data = df.images.reshape((n_samples, -1))"
      ],
      "metadata": {
        "id": "k9JBRDKjr8tY"
      },
      "execution_count": 15,
      "outputs": []
    },
    {
      "cell_type": "code",
      "source": [
        "data[0]"
      ],
      "metadata": {
        "colab": {
          "base_uri": "https://localhost:8080/"
        },
        "id": "SEYXfzHxsAdk",
        "outputId": "eecfe0ea-e4dc-4839-f2ff-1e1ded86e62f"
      },
      "execution_count": 16,
      "outputs": [
        {
          "output_type": "execute_result",
          "data": {
            "text/plain": [
              "array([ 0.,  0.,  5., 13.,  9.,  1.,  0.,  0.,  0.,  0., 13., 15., 10.,\n",
              "       15.,  5.,  0.,  0.,  3., 15.,  2.,  0., 11.,  8.,  0.,  0.,  4.,\n",
              "       12.,  0.,  0.,  8.,  8.,  0.,  0.,  5.,  8.,  0.,  0.,  9.,  8.,\n",
              "        0.,  0.,  4., 11.,  0.,  1., 12.,  7.,  0.,  0.,  2., 14.,  5.,\n",
              "       10., 12.,  0.,  0.,  0.,  0.,  6., 13., 10.,  0.,  0.,  0.])"
            ]
          },
          "metadata": {},
          "execution_count": 16
        }
      ]
    },
    {
      "cell_type": "code",
      "source": [
        "data[0]"
      ],
      "metadata": {
        "colab": {
          "base_uri": "https://localhost:8080/"
        },
        "id": "1UxGzv0VsM0G",
        "outputId": "ca8ffde8-38a4-476f-e3dd-6a765dd9fa4e"
      },
      "execution_count": 17,
      "outputs": [
        {
          "output_type": "execute_result",
          "data": {
            "text/plain": [
              "array([ 0.,  0.,  5., 13.,  9.,  1.,  0.,  0.,  0.,  0., 13., 15., 10.,\n",
              "       15.,  5.,  0.,  0.,  3., 15.,  2.,  0., 11.,  8.,  0.,  0.,  4.,\n",
              "       12.,  0.,  0.,  8.,  8.,  0.,  0.,  5.,  8.,  0.,  0.,  9.,  8.,\n",
              "        0.,  0.,  4., 11.,  0.,  1., 12.,  7.,  0.,  0.,  2., 14.,  5.,\n",
              "       10., 12.,  0.,  0.,  0.,  0.,  6., 13., 10.,  0.,  0.,  0.])"
            ]
          },
          "metadata": {},
          "execution_count": 17
        }
      ]
    },
    {
      "cell_type": "code",
      "source": [
        "data[0].shape"
      ],
      "metadata": {
        "colab": {
          "base_uri": "https://localhost:8080/"
        },
        "id": "ujUgM11tsRDx",
        "outputId": "d75d0ebe-faec-451c-a71b-25127b18ea21"
      },
      "execution_count": 18,
      "outputs": [
        {
          "output_type": "execute_result",
          "data": {
            "text/plain": [
              "(64,)"
            ]
          },
          "metadata": {},
          "execution_count": 18
        }
      ]
    },
    {
      "cell_type": "code",
      "source": [
        "data.shape"
      ],
      "metadata": {
        "colab": {
          "base_uri": "https://localhost:8080/"
        },
        "id": "6IxdkFDgsU0S",
        "outputId": "171db6b1-bcbe-4227-abf5-6f1e43c0a1c1"
      },
      "execution_count": 19,
      "outputs": [
        {
          "output_type": "execute_result",
          "data": {
            "text/plain": [
              "(1797, 64)"
            ]
          },
          "metadata": {},
          "execution_count": 19
        }
      ]
    },
    {
      "cell_type": "code",
      "source": [
        "data.min()"
      ],
      "metadata": {
        "colab": {
          "base_uri": "https://localhost:8080/"
        },
        "id": "nbOVaRLJsZCo",
        "outputId": "03667872-fdc9-4cbe-b30d-4cb9abae4fcb"
      },
      "execution_count": 20,
      "outputs": [
        {
          "output_type": "execute_result",
          "data": {
            "text/plain": [
              "0.0"
            ]
          },
          "metadata": {},
          "execution_count": 20
        }
      ]
    },
    {
      "cell_type": "code",
      "source": [
        "data.max()"
      ],
      "metadata": {
        "colab": {
          "base_uri": "https://localhost:8080/"
        },
        "id": "Q2SLB80XscrP",
        "outputId": "d30e31da-67ef-450c-e66f-9efe3c50f0da"
      },
      "execution_count": 21,
      "outputs": [
        {
          "output_type": "execute_result",
          "data": {
            "text/plain": [
              "16.0"
            ]
          },
          "metadata": {},
          "execution_count": 21
        }
      ]
    },
    {
      "cell_type": "code",
      "source": [
        "data = data/16"
      ],
      "metadata": {
        "id": "QOYr0LwDsgWl"
      },
      "execution_count": 22,
      "outputs": []
    },
    {
      "cell_type": "code",
      "source": [
        "data.min()"
      ],
      "metadata": {
        "colab": {
          "base_uri": "https://localhost:8080/"
        },
        "id": "tTGcFYHDskAl",
        "outputId": "728199d2-b3e0-4e46-cb86-07205b99ef62"
      },
      "execution_count": 23,
      "outputs": [
        {
          "output_type": "execute_result",
          "data": {
            "text/plain": [
              "0.0"
            ]
          },
          "metadata": {},
          "execution_count": 23
        }
      ]
    },
    {
      "cell_type": "code",
      "source": [
        "data.max()"
      ],
      "metadata": {
        "colab": {
          "base_uri": "https://localhost:8080/"
        },
        "id": "Bg_Nvso5sng9",
        "outputId": "ebbe3228-138b-41b5-bffd-72449d661271"
      },
      "execution_count": 24,
      "outputs": [
        {
          "output_type": "execute_result",
          "data": {
            "text/plain": [
              "1.0"
            ]
          },
          "metadata": {},
          "execution_count": 24
        }
      ]
    },
    {
      "cell_type": "code",
      "source": [
        "data[0]"
      ],
      "metadata": {
        "colab": {
          "base_uri": "https://localhost:8080/"
        },
        "id": "ydAprKOtsrkn",
        "outputId": "318ac3b4-12bb-4e2f-a50a-91769335c2ed"
      },
      "execution_count": 25,
      "outputs": [
        {
          "output_type": "execute_result",
          "data": {
            "text/plain": [
              "array([0.    , 0.    , 0.3125, 0.8125, 0.5625, 0.0625, 0.    , 0.    ,\n",
              "       0.    , 0.    , 0.8125, 0.9375, 0.625 , 0.9375, 0.3125, 0.    ,\n",
              "       0.    , 0.1875, 0.9375, 0.125 , 0.    , 0.6875, 0.5   , 0.    ,\n",
              "       0.    , 0.25  , 0.75  , 0.    , 0.    , 0.5   , 0.5   , 0.    ,\n",
              "       0.    , 0.3125, 0.5   , 0.    , 0.    , 0.5625, 0.5   , 0.    ,\n",
              "       0.    , 0.25  , 0.6875, 0.    , 0.0625, 0.75  , 0.4375, 0.    ,\n",
              "       0.    , 0.125 , 0.875 , 0.3125, 0.625 , 0.75  , 0.    , 0.    ,\n",
              "       0.    , 0.    , 0.375 , 0.8125, 0.625 , 0.    , 0.    , 0.    ])"
            ]
          },
          "metadata": {},
          "execution_count": 25
        }
      ]
    },
    {
      "cell_type": "markdown",
      "source": [
        "# Train Test Split Data"
      ],
      "metadata": {
        "id": "mMZz67Djs1Ni"
      }
    },
    {
      "cell_type": "code",
      "source": [
        "from sklearn.model_selection import train_test_split"
      ],
      "metadata": {
        "id": "d0cv56WtswWa"
      },
      "execution_count": 26,
      "outputs": []
    },
    {
      "cell_type": "code",
      "source": [
        "x_train, x_test, y_train, y_test = train_test_split(data, df.target, test_size=0.3)"
      ],
      "metadata": {
        "id": "QJGrGgwYs-X9"
      },
      "execution_count": 27,
      "outputs": []
    },
    {
      "cell_type": "code",
      "source": [
        "x_train.shape, x_test.shape, y_train.shape, y_test.shape"
      ],
      "metadata": {
        "colab": {
          "base_uri": "https://localhost:8080/"
        },
        "id": "Kvmih8xBtERg",
        "outputId": "3fa22d10-f2e9-4cf4-d39c-525b195291dd"
      },
      "execution_count": 28,
      "outputs": [
        {
          "output_type": "execute_result",
          "data": {
            "text/plain": [
              "((1257, 64), (540, 64), (1257,), (540,))"
            ]
          },
          "metadata": {},
          "execution_count": 28
        }
      ]
    },
    {
      "cell_type": "markdown",
      "source": [
        "# **Random Forest Model**\n"
      ],
      "metadata": {
        "id": "Why1N_pYtNqR"
      }
    },
    {
      "cell_type": "code",
      "source": [
        "from sklearn.ensemble import RandomForestClassifier"
      ],
      "metadata": {
        "id": "s6QhgnlutICu"
      },
      "execution_count": 29,
      "outputs": []
    },
    {
      "cell_type": "code",
      "source": [
        "rf = RandomForestClassifier()"
      ],
      "metadata": {
        "id": "YUUpQT8gtZjk"
      },
      "execution_count": 30,
      "outputs": []
    },
    {
      "cell_type": "code",
      "source": [
        "rf.fit(x_train, y_train)"
      ],
      "metadata": {
        "colab": {
          "base_uri": "https://localhost:8080/",
          "height": 74
        },
        "id": "scFqnQkDtdDH",
        "outputId": "da5ea94d-385a-4cbb-8e2e-9f09d97aecd2"
      },
      "execution_count": 31,
      "outputs": [
        {
          "output_type": "execute_result",
          "data": {
            "text/plain": [
              "RandomForestClassifier()"
            ],
            "text/html": [
              "<style>#sk-container-id-1 {color: black;background-color: white;}#sk-container-id-1 pre{padding: 0;}#sk-container-id-1 div.sk-toggleable {background-color: white;}#sk-container-id-1 label.sk-toggleable__label {cursor: pointer;display: block;width: 100%;margin-bottom: 0;padding: 0.3em;box-sizing: border-box;text-align: center;}#sk-container-id-1 label.sk-toggleable__label-arrow:before {content: \"▸\";float: left;margin-right: 0.25em;color: #696969;}#sk-container-id-1 label.sk-toggleable__label-arrow:hover:before {color: black;}#sk-container-id-1 div.sk-estimator:hover label.sk-toggleable__label-arrow:before {color: black;}#sk-container-id-1 div.sk-toggleable__content {max-height: 0;max-width: 0;overflow: hidden;text-align: left;background-color: #f0f8ff;}#sk-container-id-1 div.sk-toggleable__content pre {margin: 0.2em;color: black;border-radius: 0.25em;background-color: #f0f8ff;}#sk-container-id-1 input.sk-toggleable__control:checked~div.sk-toggleable__content {max-height: 200px;max-width: 100%;overflow: auto;}#sk-container-id-1 input.sk-toggleable__control:checked~label.sk-toggleable__label-arrow:before {content: \"▾\";}#sk-container-id-1 div.sk-estimator input.sk-toggleable__control:checked~label.sk-toggleable__label {background-color: #d4ebff;}#sk-container-id-1 div.sk-label input.sk-toggleable__control:checked~label.sk-toggleable__label {background-color: #d4ebff;}#sk-container-id-1 input.sk-hidden--visually {border: 0;clip: rect(1px 1px 1px 1px);clip: rect(1px, 1px, 1px, 1px);height: 1px;margin: -1px;overflow: hidden;padding: 0;position: absolute;width: 1px;}#sk-container-id-1 div.sk-estimator {font-family: monospace;background-color: #f0f8ff;border: 1px dotted black;border-radius: 0.25em;box-sizing: border-box;margin-bottom: 0.5em;}#sk-container-id-1 div.sk-estimator:hover {background-color: #d4ebff;}#sk-container-id-1 div.sk-parallel-item::after {content: \"\";width: 100%;border-bottom: 1px solid gray;flex-grow: 1;}#sk-container-id-1 div.sk-label:hover label.sk-toggleable__label {background-color: #d4ebff;}#sk-container-id-1 div.sk-serial::before {content: \"\";position: absolute;border-left: 1px solid gray;box-sizing: border-box;top: 0;bottom: 0;left: 50%;z-index: 0;}#sk-container-id-1 div.sk-serial {display: flex;flex-direction: column;align-items: center;background-color: white;padding-right: 0.2em;padding-left: 0.2em;position: relative;}#sk-container-id-1 div.sk-item {position: relative;z-index: 1;}#sk-container-id-1 div.sk-parallel {display: flex;align-items: stretch;justify-content: center;background-color: white;position: relative;}#sk-container-id-1 div.sk-item::before, #sk-container-id-1 div.sk-parallel-item::before {content: \"\";position: absolute;border-left: 1px solid gray;box-sizing: border-box;top: 0;bottom: 0;left: 50%;z-index: -1;}#sk-container-id-1 div.sk-parallel-item {display: flex;flex-direction: column;z-index: 1;position: relative;background-color: white;}#sk-container-id-1 div.sk-parallel-item:first-child::after {align-self: flex-end;width: 50%;}#sk-container-id-1 div.sk-parallel-item:last-child::after {align-self: flex-start;width: 50%;}#sk-container-id-1 div.sk-parallel-item:only-child::after {width: 0;}#sk-container-id-1 div.sk-dashed-wrapped {border: 1px dashed gray;margin: 0 0.4em 0.5em 0.4em;box-sizing: border-box;padding-bottom: 0.4em;background-color: white;}#sk-container-id-1 div.sk-label label {font-family: monospace;font-weight: bold;display: inline-block;line-height: 1.2em;}#sk-container-id-1 div.sk-label-container {text-align: center;}#sk-container-id-1 div.sk-container {/* jupyter's `normalize.less` sets `[hidden] { display: none; }` but bootstrap.min.css set `[hidden] { display: none !important; }` so we also need the `!important` here to be able to override the default hidden behavior on the sphinx rendered scikit-learn.org. See: https://github.com/scikit-learn/scikit-learn/issues/21755 */display: inline-block !important;position: relative;}#sk-container-id-1 div.sk-text-repr-fallback {display: none;}</style><div id=\"sk-container-id-1\" class=\"sk-top-container\"><div class=\"sk-text-repr-fallback\"><pre>RandomForestClassifier()</pre><b>In a Jupyter environment, please rerun this cell to show the HTML representation or trust the notebook. <br />On GitHub, the HTML representation is unable to render, please try loading this page with nbviewer.org.</b></div><div class=\"sk-container\" hidden><div class=\"sk-item\"><div class=\"sk-estimator sk-toggleable\"><input class=\"sk-toggleable__control sk-hidden--visually\" id=\"sk-estimator-id-1\" type=\"checkbox\" checked><label for=\"sk-estimator-id-1\" class=\"sk-toggleable__label sk-toggleable__label-arrow\">RandomForestClassifier</label><div class=\"sk-toggleable__content\"><pre>RandomForestClassifier()</pre></div></div></div></div></div>"
            ]
          },
          "metadata": {},
          "execution_count": 31
        }
      ]
    },
    {
      "cell_type": "markdown",
      "source": [
        "# Predict Test Data"
      ],
      "metadata": {
        "id": "ff9OFxSmtkFN"
      }
    },
    {
      "cell_type": "code",
      "source": [
        "y_pred = rf.predict(x_test)"
      ],
      "metadata": {
        "id": "E6lLE47ttgCa"
      },
      "execution_count": 32,
      "outputs": []
    },
    {
      "cell_type": "code",
      "source": [
        "y_pred"
      ],
      "metadata": {
        "colab": {
          "base_uri": "https://localhost:8080/"
        },
        "id": "sSmaE84LtprE",
        "outputId": "3526a20b-bbc2-43c7-c07f-425f33050145"
      },
      "execution_count": 34,
      "outputs": [
        {
          "output_type": "execute_result",
          "data": {
            "text/plain": [
              "array([9, 3, 6, 8, 2, 8, 2, 4, 0, 8, 7, 3, 1, 1, 3, 4, 9, 1, 0, 0, 1, 9,\n",
              "       8, 0, 9, 9, 4, 3, 4, 9, 2, 3, 7, 1, 6, 0, 2, 9, 4, 3, 2, 7, 5, 3,\n",
              "       1, 2, 4, 5, 9, 6, 3, 2, 0, 9, 7, 8, 2, 2, 0, 3, 6, 7, 2, 8, 8, 1,\n",
              "       3, 8, 2, 6, 3, 0, 4, 2, 3, 2, 2, 6, 8, 4, 5, 9, 8, 1, 8, 3, 7, 2,\n",
              "       4, 6, 1, 5, 4, 6, 2, 6, 4, 2, 4, 1, 2, 8, 1, 0, 8, 0, 1, 8, 8, 7,\n",
              "       9, 3, 8, 6, 8, 8, 8, 2, 0, 6, 4, 5, 0, 3, 5, 0, 8, 5, 2, 7, 9, 1,\n",
              "       5, 4, 8, 5, 7, 1, 2, 4, 4, 0, 4, 6, 4, 6, 1, 3, 6, 3, 6, 4, 6, 0,\n",
              "       7, 7, 6, 0, 5, 1, 7, 5, 7, 4, 3, 3, 2, 0, 8, 3, 8, 5, 3, 9, 9, 8,\n",
              "       6, 2, 3, 8, 5, 5, 7, 3, 8, 1, 7, 6, 9, 8, 2, 5, 1, 5, 7, 8, 6, 2,\n",
              "       7, 7, 3, 8, 7, 1, 9, 2, 3, 3, 9, 6, 3, 9, 7, 3, 8, 5, 7, 6, 9, 9,\n",
              "       8, 3, 9, 5, 3, 3, 6, 3, 8, 8, 9, 3, 5, 0, 4, 4, 5, 7, 0, 6, 2, 5,\n",
              "       7, 1, 8, 0, 4, 6, 2, 2, 3, 5, 2, 7, 6, 9, 0, 4, 0, 5, 0, 9, 1, 9,\n",
              "       2, 4, 6, 0, 5, 2, 7, 0, 9, 5, 5, 4, 6, 0, 8, 2, 6, 8, 4, 6, 6, 7,\n",
              "       8, 7, 7, 8, 3, 3, 4, 8, 7, 3, 0, 5, 9, 2, 5, 0, 1, 7, 3, 3, 1, 5,\n",
              "       6, 0, 9, 6, 5, 7, 4, 0, 7, 3, 4, 5, 0, 9, 7, 3, 2, 3, 4, 9, 6, 5,\n",
              "       2, 7, 8, 4, 2, 2, 5, 4, 7, 0, 7, 5, 7, 9, 9, 0, 1, 4, 8, 5, 5, 9,\n",
              "       2, 4, 8, 2, 1, 3, 2, 6, 4, 3, 0, 6, 0, 3, 0, 2, 7, 1, 3, 7, 7, 3,\n",
              "       6, 0, 7, 5, 8, 9, 1, 8, 3, 3, 6, 1, 9, 7, 0, 9, 0, 3, 7, 3, 7, 8,\n",
              "       7, 5, 9, 7, 6, 8, 9, 8, 2, 9, 2, 7, 1, 8, 2, 0, 4, 3, 1, 4, 3, 4,\n",
              "       0, 3, 8, 6, 7, 5, 2, 3, 2, 5, 9, 7, 4, 4, 3, 0, 1, 9, 8, 6, 4, 2,\n",
              "       4, 4, 3, 8, 8, 6, 4, 8, 7, 3, 5, 1, 1, 5, 1, 3, 2, 8, 2, 9, 1, 5,\n",
              "       6, 8, 3, 6, 0, 0, 0, 9, 6, 0, 3, 5, 6, 6, 9, 0, 2, 4, 4, 1, 2, 9,\n",
              "       4, 1, 9, 8, 7, 3, 9, 0, 0, 6, 7, 7, 4, 9, 1, 4, 4, 2, 3, 7, 2, 3,\n",
              "       4, 7, 1, 3, 5, 0, 1, 5, 4, 8, 3, 0, 9, 0, 4, 0, 6, 2, 5, 1, 1, 5,\n",
              "       8, 7, 2, 7, 3, 3, 9, 7, 7, 5, 5, 1])"
            ]
          },
          "metadata": {},
          "execution_count": 34
        }
      ]
    },
    {
      "cell_type": "markdown",
      "source": [
        "# Model Accuracy"
      ],
      "metadata": {
        "id": "Ceua4udct8lJ"
      }
    },
    {
      "cell_type": "code",
      "source": [
        "from sklearn.metrics import confusion_matrix, classification_report"
      ],
      "metadata": {
        "id": "j7BFItrEtuOA"
      },
      "execution_count": 35,
      "outputs": []
    },
    {
      "cell_type": "code",
      "source": [
        "confusion_matrix(y_test, y_pred)"
      ],
      "metadata": {
        "colab": {
          "base_uri": "https://localhost:8080/"
        },
        "id": "ZUJ9JJdkuBfn",
        "outputId": "55e4c3c4-b82f-49ab-f7a9-84a03b3c8c81"
      },
      "execution_count": 36,
      "outputs": [
        {
          "output_type": "execute_result",
          "data": {
            "text/plain": [
              "array([[52,  0,  0,  0,  0,  0,  0,  0,  0,  0],\n",
              "       [ 0, 43,  0,  0,  0,  0,  0,  0,  0,  0],\n",
              "       [ 0,  0, 56,  0,  0,  0,  0,  0,  0,  0],\n",
              "       [ 0,  0,  0, 67,  0,  1,  0,  1,  0,  0],\n",
              "       [ 0,  0,  0,  0, 53,  0,  0,  2,  0,  0],\n",
              "       [ 0,  0,  0,  0,  0, 49,  0,  0,  0,  0],\n",
              "       [ 1,  0,  0,  0,  0,  0, 49,  0,  0,  0],\n",
              "       [ 0,  0,  0,  0,  1,  0,  0, 55,  0,  1],\n",
              "       [ 0,  0,  0,  0,  0,  0,  0,  1, 57,  0],\n",
              "       [ 0,  0,  0,  1,  0,  0,  0,  0,  1, 49]])"
            ]
          },
          "metadata": {},
          "execution_count": 36
        }
      ]
    },
    {
      "cell_type": "code",
      "source": [
        "print (classification_report(y_test, y_pred))"
      ],
      "metadata": {
        "colab": {
          "base_uri": "https://localhost:8080/"
        },
        "id": "0VMulnt_uEsA",
        "outputId": "0fbece07-6128-41fc-8bb4-e75bc0404e7a"
      },
      "execution_count": 37,
      "outputs": [
        {
          "output_type": "stream",
          "name": "stdout",
          "text": [
            "              precision    recall  f1-score   support\n",
            "\n",
            "           0       0.98      1.00      0.99        52\n",
            "           1       1.00      1.00      1.00        43\n",
            "           2       1.00      1.00      1.00        56\n",
            "           3       0.99      0.97      0.98        69\n",
            "           4       0.98      0.96      0.97        55\n",
            "           5       0.98      1.00      0.99        49\n",
            "           6       1.00      0.98      0.99        50\n",
            "           7       0.93      0.96      0.95        57\n",
            "           8       0.98      0.98      0.98        58\n",
            "           9       0.98      0.96      0.97        51\n",
            "\n",
            "    accuracy                           0.98       540\n",
            "   macro avg       0.98      0.98      0.98       540\n",
            "weighted avg       0.98      0.98      0.98       540\n",
            "\n"
          ]
        }
      ]
    },
    {
      "cell_type": "code",
      "source": [],
      "metadata": {
        "id": "He5IOKWmuJBc"
      },
      "execution_count": null,
      "outputs": []
    }
  ]
}